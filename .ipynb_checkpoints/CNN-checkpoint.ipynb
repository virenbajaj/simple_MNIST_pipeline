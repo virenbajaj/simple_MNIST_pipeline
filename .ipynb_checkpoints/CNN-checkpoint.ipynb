{
 "cells": [
  {
   "cell_type": "code",
   "execution_count": 2,
   "metadata": {},
   "outputs": [
    {
     "name": "stderr",
     "output_type": "stream",
     "text": [
      "Using TensorFlow backend.\n"
     ]
    }
   ],
   "source": [
    "import tensorflow as tf\n",
    "import tensorflow.keras as tfk \n",
    "import keras\n",
    "import matplotlib.pyplot as plt\n",
    "import os\n",
    "import json\n",
    "import shutil\n"
   ]
  },
  {
   "cell_type": "markdown",
   "metadata": {},
   "source": [
    "# Load and Inspect MNIST Dataset"
   ]
  },
  {
   "cell_type": "code",
   "execution_count": 5,
   "metadata": {},
   "outputs": [
    {
     "name": "stdout",
     "output_type": "stream",
     "text": [
      "(60000, 28, 28) (60000,) 28 28\n"
     ]
    }
   ],
   "source": [
    "# Get dataset\n",
    "mnist = tf.keras.datasets.mnist\n",
    "(x_train, y_train),(x_test, y_test) = mnist.load_data()\n",
    "img_height,img_width = tuple(x_train.shape[1:3])\n",
    "print(x_train.shape,x_test.shape, y_train.shape,img_height,img_width)"
   ]
  },
  {
   "cell_type": "code",
   "execution_count": 3,
   "metadata": {
    "scrolled": true
   },
   "outputs": [
    {
     "data": {
      "image/png": "[encoded data removed]",
      "text/plain": [
       "<Figure size 432x288 with 15 Axes>"
      ]
     },
     "metadata": {},
     "output_type": "display_data"
    }
   ],
   "source": [
    "fig = plt.figure()\n",
    "for i in range(15):\n",
    "    plt.subplot(3,5,i+1)\n",
    "    plt.tight_layout()\n",
    "    plt.imshow(x_train[i], cmap='gray', interpolation='none')\n",
    "    plt.title(\"Label: {}\".format(y_train[i]))\n",
    "    plt.xticks([])\n",
    "    plt.yticks([])"
   ]
  },
  {
   "cell_type": "markdown",
   "metadata": {},
   "source": [
    "# Preprocess Data "
   ]
  },
  {
   "cell_type": "code",
   "execution_count": 5,
   "metadata": {
    "scrolled": true
   },
   "outputs": [
    {
     "name": "stdout",
     "output_type": "stream",
     "text": [
      "input_shape: (28, 28, 1)\n",
      "x_train shape: (60000, 28, 28, 1)\n"
     ]
    }
   ],
   "source": [
    "# Reshape data array to incorporate convolution channels ('channel last'), i.e., new shape will be\n",
    "# (samples (conv_dim1), img_height (conv_dim2), img_width(conv_dim3), channels)\n",
    "x_train = x_train.reshape((x_train.shape[0],img_height,img_width,1))\n",
    "x_test = x_test.reshape((x_test.shape[0],img_height,img_width,1))\n",
    "\n",
    "# Normalize data (divide by maximum RGB value)\n",
    "x_train, x_test = x_train.astype('float32'), x_test.astype('float32')\n",
    "x_train, x_test = x_train / 255.0, x_test / 255.0\n",
    "\n",
    "input_shape = (img_height,img_width,1)\n",
    "print(f\"input_shape: {input_shape}\")\n",
    "print(f'x_train shape: {x_train.shape}')"
   ]
  },
  {
   "cell_type": "code",
   "execution_count": 6,
   "metadata": {},
   "outputs": [
    {
     "name": "stdout",
     "output_type": "stream",
     "text": [
      "(60000, 10) [0. 0. 0. 0. 0. 1. 0. 0. 0. 0.]\n"
     ]
    }
   ],
   "source": [
    "# Make one hot-vectors of class labels so that we can use categorical cross-entropy loss \n",
    "categories = 10\n",
    "y_train = keras.utils.to_categorical(y_train, categories)\n",
    "y_test = keras.utils.to_categorical(y_test, categories)\n",
    "print(y_train.shape, y_train[0])"
   ]
  },
  {
   "cell_type": "markdown",
   "metadata": {},
   "source": [
    "# Build Model"
   ]
  },
  {
   "cell_type": "code",
   "execution_count": 7,
   "metadata": {},
   "outputs": [],
   "source": [
    "# tf.app.flags.DEFINE_integer('training_iteration', 1000,\n",
    "#                             'number of training iterations.')\n",
    "# tf.app.flags.DEFINE_integer('model_version', 1, 'version number of the model.')\n",
    "# tf.app.flags.DEFINE_string('work_dir', '/tmp', 'Working directory.')\n",
    "# FLAGS = tf.app.flags.FLAGS\n",
    "# print(FLAGS)"
   ]
  },
  {
   "cell_type": "code",
   "execution_count": 33,
   "metadata": {
    "scrolled": true
   },
   "outputs": [],
   "source": [
    "class CNN:\n",
    "    def __init__(self,export_dir,model_version=1):\n",
    "        self.export_dir = export_dir + f\"/{model_version}\"\n",
    "        self.training_history = {}\n",
    "        \n",
    "    def build(self):\n",
    "        filter_shape = (3,3)\n",
    "        padding = \"same\"\n",
    "        maxpool_shape = (2,2)\n",
    "        maxpool_stride = 2\n",
    "        nonlin_act = \"relu\"\n",
    "        self.inputs = tf.keras.Input(shape=input_shape)\n",
    "        self.c1 = tfk.layers.Conv2D(32, filter_shape, activation=nonlin_act,padding=padding, name=\"conv1\")(self.inputs)\n",
    "        self.c21 = tfk.layers.Conv2D(64, filter_shape, activation=nonlin_act,padding=padding, name=\"conv2_1\")(self.c1)\n",
    "        self.c21 = tfk.layers.MaxPool2D(maxpool_shape, maxpool_stride, name=\"maxpool2_1\")(self.c21)\n",
    "        self.c22 = tfk.layers.Conv2D(64, filter_shape, activation=nonlin_act, padding=padding, name=\"conv2_2\")(self.c1)\n",
    "        self.c22 = tfk.layers.MaxPool2D(maxpool_shape, maxpool_stride, name=\"maxpool2_2\")(self.c22)\n",
    "        self.c31 = tfk.layers.Conv2D(256, filter_shape, activation=nonlin_act, padding=padding, name=\"conv3_1\")(self.c21)\n",
    "        self.c31 = tfk.layers.MaxPool2D(maxpool_shape, maxpool_stride, name=\"maxpool3_1\")(self.c31)\n",
    "        self.c32 = tfk.layers.Conv2D(256, filter_shape, activation=nonlin_act, padding=padding, name=\"conv3_2\")(self.c22)\n",
    "        self.c32 = tfk.layers.MaxPool2D(maxpool_shape, maxpool_stride, name=\"maxpool3_2\")(self.c32)\n",
    "        self.c3 = tfk.layers.concatenate([self.c31,self.c32], name=\"c3\")\n",
    "        self.fc1 = tfk.layers.Flatten(name=\"flatten\")(self.c3)\n",
    "        self.fc1 = tfk.layers.Dense(1000, activation=nonlin_act, name=\"fc1\")(self.fc1)\n",
    "        self.fc2 = tfk.layers.Dense(500, activation=nonlin_act, name=\"fc2\")(self.fc1)\n",
    "        self.outputs = tf.keras.layers.Dense(10, activation=\"softmax\")(self.fc2)\n",
    "        self.model = tf.keras.Model(inputs=self.inputs, outputs=self.outputs,name=\"CNN_model\")\n",
    "        self.config = self.model.get_config()\n",
    "        return self.model\n",
    "    \n",
    "    def train(self,epochs=1,validation_split=0.1,batch_size=32):\n",
    "        \n",
    "        with tf.Session(graph=tf.Graph()) as sess:\n",
    "            checkpoint_path = f\"adadelta/batch_size_{batch_size}/epochs_{epochs}/cp.ckpt\"\n",
    "            checkpoint_dir = f\"adadelta/batch_size_{batch_size}/epochs_{epochs}\"\n",
    "            if not os.path.exists(checkpoint_dir):\n",
    "                os.makedirs(checkpoint_dir)\n",
    "            print(checkpoint_dir)\n",
    "            # Create checkpoint callback\n",
    "            callbacks = [tf.keras.callbacks.ModelCheckpoint(checkpoint_path,verbose=1)]\n",
    "\n",
    "            self.build()\n",
    "            self.model.compile(optimizer=\"AdaDelta\",loss=\"categorical_crossentropy\", metrics=[\"accuracy\"])\n",
    "\n",
    "            self.training_history[f\"adadelta_{batch_size}_{epochs}\"] = \\\n",
    "                                        self.model.fit(x_train[:100], y_train[:100], validation_split=validation_split,epochs=epochs,\n",
    "                                        batch_size=batch_size,verbose=1, callbacks=callbacks)\n",
    "            print(\"done training!\")\n",
    "            \n",
    "            export_dir = self.export_dir\n",
    "            shutil.rmtree(export_dir)\n",
    "            builder = tf.saved_model.builder.SavedModelBuilder(export_dir)\n",
    "\n",
    "            img_height = 28 \n",
    "            img_width = 28\n",
    "            input_shape = (1,img_height,img_width,1)\n",
    "            input_tensor = tf.keras.Input(shape=input_shape)\n",
    "            image_height_tensor = tf.keras.Input(shape=(img_height,))\n",
    "            image_width_tensor = tf.keras.Input(shape=(None,img_width))\n",
    "\n",
    "            predict_tensor = self.model.output #or output?\n",
    "            print(predict_tensor)\n",
    "            tensor_info_input = tf.saved_model.utils.build_tensor_info(input_tensor)\n",
    "            tensor_info_height = tf.saved_model.utils.build_tensor_info(image_height_tensor)\n",
    "            tensor_info_width = tf.saved_model.utils.build_tensor_info(image_width_tensor)\n",
    "            tensor_info_output = tf.saved_model.utils.build_tensor_info(predict_tensor)\n",
    "            prediction_signature = (\n",
    "                    tf.saved_model.signature_def_utils.build_signature_def(\n",
    "                        inputs={'images': tensor_info_input, 'height': tensor_info_height, 'width': tensor_info_width},\n",
    "                        outputs={'classification': tensor_info_output},\n",
    "                        method_name=tf.saved_model.signature_constants.PREDICT_METHOD_NAME))\n",
    "\n",
    "            builder.add_meta_graph_and_variables(\n",
    "                sess, [tf.saved_model.tag_constants.SERVING],\n",
    "                signature_def_map={\n",
    "                    'predict_images':\n",
    "                        prediction_signature,\n",
    "                })\n",
    "\n",
    "            # export the model\n",
    "            builder.save(as_text=True)\n",
    "            print('Done exporting!')\n",
    "            \n",
    "           \n",
    "\n",
    "        \n",
    "        \n",
    "    \n",
    "\n",
    "    def save_model(self):\n",
    "        with tf.Session(graph=tf.Graph()) as sess:\n",
    "            export_dir = self.export_dir\n",
    "            shutil.rmtree(export_dir)\n",
    "            builder = tf.saved_model.builder.SavedModelBuilder(export_dir)\n",
    "\n",
    "            img_height = 28 \n",
    "            img_width = 28\n",
    "            input_shape = (1,img_height,img_width,1)\n",
    "            input_tensor = tf.keras.Input(shape=input_shape)\n",
    "            image_height_tensor = tf.keras.Input(shape=(img_height,))\n",
    "            image_width_tensor = tf.keras.Input(shape=(None,img_width))\n",
    "\n",
    "            predict_tensor = self.model.output #or output?\n",
    "            print(predict_tensor)\n",
    "            tensor_info_input = tf.saved_model.utils.build_tensor_info(input_tensor)\n",
    "            tensor_info_height = tf.saved_model.utils.build_tensor_info(image_height_tensor)\n",
    "            tensor_info_width = tf.saved_model.utils.build_tensor_info(image_width_tensor)\n",
    "            tensor_info_output = tf.saved_model.utils.build_tensor_info(predict_tensor)\n",
    "            prediction_signature = (\n",
    "                    tf.saved_model.signature_def_utils.build_signature_def(\n",
    "                        inputs={'images': tensor_info_input, 'height': tensor_info_height, 'width': tensor_info_width},\n",
    "                        outputs={'classification': tensor_info_output},\n",
    "                        method_name=tf.saved_model.signature_constants.PREDICT_METHOD_NAME))\n",
    "\n",
    "            builder.add_meta_graph_and_variables(\n",
    "                sess, [tf.saved_model.tag_constants.SERVING],\n",
    "                signature_def_map={\n",
    "                    'predict_images':\n",
    "                        prediction_signature,\n",
    "                })\n",
    "\n",
    "            # export the model\n",
    "            builder.save(as_text=True)\n",
    "            print('Done exporting!')\n",
    "            "
   ]
  },
  {
   "cell_type": "code",
   "execution_count": 34,
   "metadata": {
    "scrolled": true
   },
   "outputs": [
    {
     "name": "stdout",
     "output_type": "stream",
     "text": [
      "adadelta/batch_size_32/epochs_1\n",
      "Train on 90 samples, validate on 10 samples\n",
      "Epoch 1/1\n",
      "64/90 [====================>.........] - ETA: 2s - loss: 2.2839 - acc: 0.2031\n",
      "Epoch 00001: saving model to adadelta/batch_size_32/epochs_1/cp.ckpt\n",
      "90/90 [==============================] - 9s 102ms/step - loss: 2.2870 - acc: 0.1778 - val_loss: 2.2147 - val_acc: 0.2000\n",
      "done training!\n",
      "Tensor(\"dense/Softmax:0\", shape=(?, 10), dtype=float32)\n",
      "INFO:tensorflow:No assets to save.\n",
      "INFO:tensorflow:No assets to write.\n",
      "INFO:tensorflow:SavedModel written to: models/1/saved_model.pbtxt\n",
      "Done exporting!\n"
     ]
    }
   ],
   "source": [
    "m = CNN(\"models\")\n",
    "m.build()\n",
    "m.train()"
   ]
  },
  {
   "cell_type": "code",
   "execution_count": 32,
   "metadata": {},
   "outputs": [
    {
     "name": "stdout",
     "output_type": "stream",
     "text": [
      "Tensor(\"dense_14/Softmax:0\", shape=(?, 10), dtype=float32)\n",
      "INFO:tensorflow:No assets to save.\n",
      "INFO:tensorflow:No assets to write.\n",
      "INFO:tensorflow:SavedModel written to: models/1/saved_model.pbtxt\n",
      "Done exporting!\n"
     ]
    }
   ],
   "source": [
    "m.save_model()"
   ]
  },
  {
   "cell_type": "code",
   "execution_count": 8,
   "metadata": {},
   "outputs": [],
   "source": [
    "input_tensor = tf.keras.Input(shape=input_shape)\n",
    "image_height_tensor = tf.keras.Input(shape=(img_height,))\n",
    "image_width_tensor = tf.keras.Input(shape=(img_width,))\n",
    "tensor_info_input = tf.saved_model.utils.build_tensor_info(input_tensor)\n",
    "tensor_info_height = tf.saved_model.utils.build_tensor_info(image_height_tensor)\n",
    "tensor_info_width = tf.saved_model.utils.build_tensor_info(image_width_tensor)\n",
    "\n",
    "tensor_info_output = tf.saved_model.utils.build_tensor_info(predictions_tf)\n"
   ]
  },
  {
   "cell_type": "code",
   "execution_count": 27,
   "metadata": {},
   "outputs": [
    {
     "data": {
      "text/plain": [
       "{'name': 'postmatesX',\n",
       " 'layers': [{'name': 'input_8',\n",
       "   'class_name': 'InputLayer',\n",
       "   'config': {'batch_input_shape': (None, 28, 28, 1),\n",
       "    'dtype': 'float32',\n",
       "    'sparse': False,\n",
       "    'name': 'input_8'},\n",
       "   'inbound_nodes': []},\n",
       "  {'name': 'conv1',\n",
       "   'class_name': 'Conv2D',\n",
       "   'config': {'name': 'conv1',\n",
       "    'trainable': True,\n",
       "    'dtype': 'float32',\n",
       "    'filters': 32,\n",
       "    'kernel_size': (3, 3),\n",
       "    'strides': (1, 1),\n",
       "    'padding': 'same',\n",
       "    'data_format': 'channels_last',\n",
       "    'dilation_rate': (1, 1),\n",
       "    'activation': 'relu',\n",
       "    'use_bias': True,\n",
       "    'kernel_initializer': {'class_name': 'GlorotUniform',\n",
       "     'config': {'seed': None, 'dtype': 'float32'}},\n",
       "    'bias_initializer': {'class_name': 'Zeros',\n",
       "     'config': {'dtype': 'float32'}},\n",
       "    'kernel_regularizer': None,\n",
       "    'bias_regularizer': None,\n",
       "    'activity_regularizer': None,\n",
       "    'kernel_constraint': None,\n",
       "    'bias_constraint': None},\n",
       "   'inbound_nodes': [[['input_8', 0, 0, {}]]]},\n",
       "  {'name': 'conv2_1',\n",
       "   'class_name': 'Conv2D',\n",
       "   'config': {'name': 'conv2_1',\n",
       "    'trainable': True,\n",
       "    'dtype': 'float32',\n",
       "    'filters': 64,\n",
       "    'kernel_size': (3, 3),\n",
       "    'strides': (1, 1),\n",
       "    'padding': 'same',\n",
       "    'data_format': 'channels_last',\n",
       "    'dilation_rate': (1, 1),\n",
       "    'activation': 'relu',\n",
       "    'use_bias': True,\n",
       "    'kernel_initializer': {'class_name': 'GlorotUniform',\n",
       "     'config': {'seed': None, 'dtype': 'float32'}},\n",
       "    'bias_initializer': {'class_name': 'Zeros',\n",
       "     'config': {'dtype': 'float32'}},\n",
       "    'kernel_regularizer': None,\n",
       "    'bias_regularizer': None,\n",
       "    'activity_regularizer': None,\n",
       "    'kernel_constraint': None,\n",
       "    'bias_constraint': None},\n",
       "   'inbound_nodes': [[['conv1', 0, 0, {}]]]},\n",
       "  {'name': 'conv2_2',\n",
       "   'class_name': 'Conv2D',\n",
       "   'config': {'name': 'conv2_2',\n",
       "    'trainable': True,\n",
       "    'dtype': 'float32',\n",
       "    'filters': 64,\n",
       "    'kernel_size': (3, 3),\n",
       "    'strides': (1, 1),\n",
       "    'padding': 'same',\n",
       "    'data_format': 'channels_last',\n",
       "    'dilation_rate': (1, 1),\n",
       "    'activation': 'relu',\n",
       "    'use_bias': True,\n",
       "    'kernel_initializer': {'class_name': 'GlorotUniform',\n",
       "     'config': {'seed': None, 'dtype': 'float32'}},\n",
       "    'bias_initializer': {'class_name': 'Zeros',\n",
       "     'config': {'dtype': 'float32'}},\n",
       "    'kernel_regularizer': None,\n",
       "    'bias_regularizer': None,\n",
       "    'activity_regularizer': None,\n",
       "    'kernel_constraint': None,\n",
       "    'bias_constraint': None},\n",
       "   'inbound_nodes': [[['conv1', 0, 0, {}]]]},\n",
       "  {'name': 'maxpool2_1',\n",
       "   'class_name': 'MaxPooling2D',\n",
       "   'config': {'name': 'maxpool2_1',\n",
       "    'trainable': True,\n",
       "    'dtype': 'float32',\n",
       "    'pool_size': (2, 2),\n",
       "    'padding': 'valid',\n",
       "    'strides': (2, 2),\n",
       "    'data_format': 'channels_last'},\n",
       "   'inbound_nodes': [[['conv2_1', 0, 0, {}]]]},\n",
       "  {'name': 'maxpool2_2',\n",
       "   'class_name': 'MaxPooling2D',\n",
       "   'config': {'name': 'maxpool2_2',\n",
       "    'trainable': True,\n",
       "    'dtype': 'float32',\n",
       "    'pool_size': (2, 2),\n",
       "    'padding': 'valid',\n",
       "    'strides': (2, 2),\n",
       "    'data_format': 'channels_last'},\n",
       "   'inbound_nodes': [[['conv2_2', 0, 0, {}]]]},\n",
       "  {'name': 'conv3_1',\n",
       "   'class_name': 'Conv2D',\n",
       "   'config': {'name': 'conv3_1',\n",
       "    'trainable': True,\n",
       "    'dtype': 'float32',\n",
       "    'filters': 256,\n",
       "    'kernel_size': (3, 3),\n",
       "    'strides': (1, 1),\n",
       "    'padding': 'same',\n",
       "    'data_format': 'channels_last',\n",
       "    'dilation_rate': (1, 1),\n",
       "    'activation': 'relu',\n",
       "    'use_bias': True,\n",
       "    'kernel_initializer': {'class_name': 'GlorotUniform',\n",
       "     'config': {'seed': None, 'dtype': 'float32'}},\n",
       "    'bias_initializer': {'class_name': 'Zeros',\n",
       "     'config': {'dtype': 'float32'}},\n",
       "    'kernel_regularizer': None,\n",
       "    'bias_regularizer': None,\n",
       "    'activity_regularizer': None,\n",
       "    'kernel_constraint': None,\n",
       "    'bias_constraint': None},\n",
       "   'inbound_nodes': [[['maxpool2_1', 0, 0, {}]]]},\n",
       "  {'name': 'conv3_2',\n",
       "   'class_name': 'Conv2D',\n",
       "   'config': {'name': 'conv3_2',\n",
       "    'trainable': True,\n",
       "    'dtype': 'float32',\n",
       "    'filters': 256,\n",
       "    'kernel_size': (3, 3),\n",
       "    'strides': (1, 1),\n",
       "    'padding': 'same',\n",
       "    'data_format': 'channels_last',\n",
       "    'dilation_rate': (1, 1),\n",
       "    'activation': 'relu',\n",
       "    'use_bias': True,\n",
       "    'kernel_initializer': {'class_name': 'GlorotUniform',\n",
       "     'config': {'seed': None, 'dtype': 'float32'}},\n",
       "    'bias_initializer': {'class_name': 'Zeros',\n",
       "     'config': {'dtype': 'float32'}},\n",
       "    'kernel_regularizer': None,\n",
       "    'bias_regularizer': None,\n",
       "    'activity_regularizer': None,\n",
       "    'kernel_constraint': None,\n",
       "    'bias_constraint': None},\n",
       "   'inbound_nodes': [[['maxpool2_2', 0, 0, {}]]]},\n",
       "  {'name': 'maxpool3_1',\n",
       "   'class_name': 'MaxPooling2D',\n",
       "   'config': {'name': 'maxpool3_1',\n",
       "    'trainable': True,\n",
       "    'dtype': 'float32',\n",
       "    'pool_size': (2, 2),\n",
       "    'padding': 'valid',\n",
       "    'strides': (2, 2),\n",
       "    'data_format': 'channels_last'},\n",
       "   'inbound_nodes': [[['conv3_1', 0, 0, {}]]]},\n",
       "  {'name': 'maxpool3_2',\n",
       "   'class_name': 'MaxPooling2D',\n",
       "   'config': {'name': 'maxpool3_2',\n",
       "    'trainable': True,\n",
       "    'dtype': 'float32',\n",
       "    'pool_size': (2, 2),\n",
       "    'padding': 'valid',\n",
       "    'strides': (2, 2),\n",
       "    'data_format': 'channels_last'},\n",
       "   'inbound_nodes': [[['conv3_2', 0, 0, {}]]]},\n",
       "  {'name': 'c3',\n",
       "   'class_name': 'Concatenate',\n",
       "   'config': {'name': 'c3', 'trainable': True, 'dtype': 'float32', 'axis': -1},\n",
       "   'inbound_nodes': [[['maxpool3_1', 0, 0, {}], ['maxpool3_2', 0, 0, {}]]]},\n",
       "  {'name': 'flatten',\n",
       "   'class_name': 'Flatten',\n",
       "   'config': {'name': 'flatten',\n",
       "    'trainable': True,\n",
       "    'dtype': 'float32',\n",
       "    'data_format': 'channels_last'},\n",
       "   'inbound_nodes': [[['c3', 0, 0, {}]]]},\n",
       "  {'name': 'fc1',\n",
       "   'class_name': 'Dense',\n",
       "   'config': {'name': 'fc1',\n",
       "    'trainable': True,\n",
       "    'dtype': 'float32',\n",
       "    'units': 1000,\n",
       "    'activation': 'relu',\n",
       "    'use_bias': True,\n",
       "    'kernel_initializer': {'class_name': 'GlorotUniform',\n",
       "     'config': {'seed': None, 'dtype': 'float32'}},\n",
       "    'bias_initializer': {'class_name': 'Zeros',\n",
       "     'config': {'dtype': 'float32'}},\n",
       "    'kernel_regularizer': None,\n",
       "    'bias_regularizer': None,\n",
       "    'activity_regularizer': None,\n",
       "    'kernel_constraint': None,\n",
       "    'bias_constraint': None},\n",
       "   'inbound_nodes': [[['flatten', 0, 0, {}]]]},\n",
       "  {'name': 'fc2',\n",
       "   'class_name': 'Dense',\n",
       "   'config': {'name': 'fc2',\n",
       "    'trainable': True,\n",
       "    'dtype': 'float32',\n",
       "    'units': 500,\n",
       "    'activation': 'relu',\n",
       "    'use_bias': True,\n",
       "    'kernel_initializer': {'class_name': 'GlorotUniform',\n",
       "     'config': {'seed': None, 'dtype': 'float32'}},\n",
       "    'bias_initializer': {'class_name': 'Zeros',\n",
       "     'config': {'dtype': 'float32'}},\n",
       "    'kernel_regularizer': None,\n",
       "    'bias_regularizer': None,\n",
       "    'activity_regularizer': None,\n",
       "    'kernel_constraint': None,\n",
       "    'bias_constraint': None},\n",
       "   'inbound_nodes': [[['fc1', 0, 0, {}]]]},\n",
       "  {'name': 'dense_6',\n",
       "   'class_name': 'Dense',\n",
       "   'config': {'name': 'dense_6',\n",
       "    'trainable': True,\n",
       "    'dtype': 'float32',\n",
       "    'units': 10,\n",
       "    'activation': 'softmax',\n",
       "    'use_bias': True,\n",
       "    'kernel_initializer': {'class_name': 'GlorotUniform',\n",
       "     'config': {'seed': None, 'dtype': 'float32'}},\n",
       "    'bias_initializer': {'class_name': 'Zeros',\n",
       "     'config': {'dtype': 'float32'}},\n",
       "    'kernel_regularizer': None,\n",
       "    'bias_regularizer': None,\n",
       "    'activity_regularizer': None,\n",
       "    'kernel_constraint': None,\n",
       "    'bias_constraint': None},\n",
       "   'inbound_nodes': [[['fc2', 0, 0, {}]]]}],\n",
       " 'input_layers': [['input_8', 0, 0]],\n",
       " 'output_layers': [['dense_6', 0, 0]]}"
      ]
     },
     "execution_count": 27,
     "metadata": {},
     "output_type": "execute_result"
    }
   ],
   "source": [
    "from tensorflow.python.keras.layers import Lambda\n",
    "filter_shape = (3,3)\n",
    "padding = \"same\"\n",
    "maxpool_shape = (2,2)\n",
    "maxpool_stride = 2\n",
    "\n",
    "inputs = tf.keras.Input(shape=input_shape)\n",
    "\n",
    "c1 = tfk.layers.Conv2D(32,filter_shape, activation=\"relu\",\n",
    "                      padding=padding, name= \"conv1\")(inputs)\n",
    "\n",
    "c21 = tfk.layers.Conv2D(64,filter_shape, activation=\"relu\",\n",
    "                        padding=padding, name = \"conv2_1\")(c1)\n",
    "\n",
    "c21 = tfk.layers.MaxPool2D(maxpool_shape, maxpool_stride, name=\"maxpool2_1\")(c21)\n",
    "\n",
    "c22 = tfk.layers.Conv2D(64,filter_shape, activation=\"relu\",\n",
    "                        padding=padding, name = \"conv2_2\")(c1)\n",
    "\n",
    "c22 = tfk.layers.MaxPool2D(maxpool_shape, maxpool_stride, name=\"maxpool2_2\")(c22)\n",
    "\n",
    "c31 = tfk.layers.Conv2D(256,filter_shape,activation=\"relu\",\n",
    "                        padding=padding, name=\"conv3_1\")(c21)\n",
    "\n",
    "c31 = tfk.layers.MaxPool2D(maxpool_shape, maxpool_stride, name=\"maxpool3_1\")(c31)\n",
    "\n",
    "c32 = tfk.layers.Conv2D(256,filter_shape,activation=\"relu\",\n",
    "                        padding=padding, name=\"conv3_2\")(c22)\n",
    "\n",
    "c32 = tfk.layers.MaxPool2D(maxpool_shape, maxpool_stride, name=\"maxpool3_2\")(c32)\n",
    "\n",
    "c3 = tfk.layers.concatenate([c31,c32],name=\"c3\")\n",
    "\n",
    "fc1 = tfk.layers.Flatten(name=\"flatten\")(c3)\n",
    "\n",
    "fc1 = tfk.layers.Dense(1000, activation=\"relu\", name=\"fc1\")(fc1)\n",
    "\n",
    "fc2 = tfk.layers.Dense(500, activation=\"relu\", name=\"fc2\")(fc1)\n",
    "\n",
    "outputs = tf.keras.layers.Dense(10, activation=\"softmax\")(fc2)\n",
    "\n",
    "model = tf.keras.Model(inputs=inputs, outputs=outputs,name=\"postmatesX\")\n",
    "\n",
    "model.get_config()"
   ]
  },
  {
   "cell_type": "code",
   "execution_count": 15,
   "metadata": {},
   "outputs": [],
   "source": [
    "keras.utils.plot_model(model, 'my_first_model_with_shape_info.png', show_shapes=True)"
   ]
  },
  {
   "cell_type": "code",
   "execution_count": 21,
   "metadata": {},
   "outputs": [
    {
     "data": {
      "text/plain": [
       "<tensorflow.python.training.checkpointable.util.CheckpointLoadStatus at 0xb26005ba8>"
      ]
     },
     "execution_count": 21,
     "metadata": {},
     "output_type": "execute_result"
    }
   ],
   "source": [
    "model.load_weights('adadelta/batch_size_32/epochs_10/cp.ckpt')"
   ]
  },
  {
   "cell_type": "code",
   "execution_count": 22,
   "metadata": {},
   "outputs": [
    {
     "name": "stdout",
     "output_type": "stream",
     "text": [
      "100/100 [==============================] - 1s 13ms/step\n"
     ]
    },
    {
     "data": {
      "text/plain": [
       "[2.2979617881774903, 0.08]"
      ]
     },
     "execution_count": 22,
     "metadata": {},
     "output_type": "execute_result"
    }
   ],
   "source": [
    "model.compile(optimizer = \"AdaDelta\",\n",
    "                  loss      = \"categorical_crossentropy\",\n",
    "                  metrics   = [\"accuracy\"])\n",
    "# model.evaluate(x_test,y_test)\n",
    "model.evaluate(x_train[:100],y_test[:100])"
   ]
  },
  {
   "cell_type": "code",
   "execution_count": 25,
   "metadata": {},
   "outputs": [],
   "source": [
    "model.save('POSTMATES!!')\n",
    "json = model.to_json()\n",
    "fresh1 = tf.keras.models.model_from_json(json)\n",
    "fresh2 = tf.keras.models.load_model('POSTMATES!!')"
   ]
  },
  {
   "cell_type": "code",
   "execution_count": 76,
   "metadata": {},
   "outputs": [
    {
     "name": "stdout",
     "output_type": "stream",
     "text": [
      "_________________________________________________________________\n",
      "Layer (type)                 Output Shape              Param #   \n",
      "=================================================================\n",
      "input_31 (InputLayer)        (None, 28, 28, 1)         0         \n",
      "_________________________________________________________________\n",
      "conv1 (Conv2D)               (None, 28, 28, 32)        320       \n",
      "_________________________________________________________________\n",
      "conv2_1 (Conv2D)             (None, 28, 28, 64)        18496     \n",
      "_________________________________________________________________\n",
      "maxpool2_1 (MaxPooling2D)    (None, 14, 14, 64)        0         \n",
      "_________________________________________________________________\n",
      "conv3_1 (Conv2D)             (None, 14, 14, 256)       147712    \n",
      "_________________________________________________________________\n",
      "maxpool3_1 (MaxPooling2D)    (None, 7, 7, 256)         0         \n",
      "_________________________________________________________________\n",
      "lambda_12 (Lambda)           (None, 7, 7, 512)         0         \n",
      "_________________________________________________________________\n",
      "flatten (Flatten)            (None, 25088)             0         \n",
      "_________________________________________________________________\n",
      "fc1 (Dense)                  (None, 1000)              25089000  \n",
      "_________________________________________________________________\n",
      "fc2 (Dense)                  (None, 500)               500500    \n",
      "_________________________________________________________________\n",
      "dense_8 (Dense)              (None, 10)                5010      \n",
      "=================================================================\n",
      "Total params: 25,761,038\n",
      "Trainable params: 25,761,038\n",
      "Non-trainable params: 0\n",
      "_________________________________________________________________\n"
     ]
    }
   ],
   "source": [
    "fresh2.summary()"
   ]
  },
  {
   "cell_type": "code",
   "execution_count": 65,
   "metadata": {},
   "outputs": [],
   "source": [
    "class PostmatesXNN(tf.keras.Model):\n",
    "    \"\"\" Convolutional Neural Network Model taken from Postmates X \"\"\"\n",
    "    \n",
    "    def __init__(self):\n",
    "        super(PostmatesXNN, self).__init__(name='')\n",
    "        filter_shape = (3,3)\n",
    "        padding = \"same\"\n",
    "        maxpool_shape = (2,2)\n",
    "        maxpool_stride = 2\n",
    "        \n",
    "        # Initialize layers in init function and build in 'call' function\n",
    "        self.conv1 = tfk.layers.Conv2D(32,filter_shape,\n",
    "                                       padding = padding,\n",
    "                                       name = \"conv1\",input_shape = input_shape)\n",
    "       \n",
    "        self.conv2_1 = tfk.layers.Conv2D(64,filter_shape,\n",
    "                                         padding = padding,\n",
    "                                         name = \"conv2_1\")\n",
    "             \n",
    "        self.conv2_2 = tfk.layers.Conv2D(64,filter_shape,\n",
    "                                         padding = padding,\n",
    "                                         name = \"conv2_2\")\n",
    "        \n",
    "        self.maxpool2_1 = tfk.layers.MaxPool2D(maxpool_shape,\n",
    "                                               maxpool_stride,\n",
    "                                               name=\"maxpool2_1\")\n",
    "    \n",
    "        self.maxpool2_2 = tfk.layers.MaxPool2D(maxpool_shape,\n",
    "                                               maxpool_stride,\n",
    "                                               name=\"maxpool2_2\")   \n",
    "    \n",
    "        self.conv3_1 = tfk.layers.Conv2D(256,filter_shape,\n",
    "                                         padding = padding,\n",
    "                                         name = \"conv3_1\")\n",
    "        \n",
    "        self.conv3_2 = tfk.layers.Conv2D(256,filter_shape,\n",
    "                                         padding = padding,\n",
    "                                         name = \"conv3_2\")\n",
    "        \n",
    "        self.maxpool3_1 = tfk.layers.MaxPool2D(maxpool_shape,\n",
    "                                               maxpool_stride,\n",
    "                                               name=\"maxpool1\")\n",
    "    \n",
    "        self.maxpool3_2 = tfk.layers.MaxPool2D(maxpool_shape,\n",
    "                                               maxpool_stride,\n",
    "                                               name=\"maxpool1\")\n",
    "        \n",
    "        self.flat = tfk.layers.Flatten()\n",
    "        \n",
    "        self.fc1 = tfk.layers.Dense(1000, name=\"fc1\")\n",
    "        \n",
    "        self.fc2 = tfk.layers.Dense(500, name=\"fc1\")\n",
    "\n",
    "        self.out = tfk.layers.Dense(10, name=\"output\")\n",
    "\n",
    "    \n",
    "    def call(self,input_tensor,training=True):\n",
    "            c1 = self.conv1(input_tensor)\n",
    "            c1 = tf.nn.relu(c1)\n",
    "#             print(f'conv1 shape: {c1.shape}')\n",
    "            c21 = self.conv2_1(c1)\n",
    "            c21 = tf.nn.relu(c21)\n",
    "            c21 = self.maxpool2_1(c21)\n",
    "#             print(f'conv2_1 shape: {c21.shape}')\n",
    "            \n",
    "            c22 = self.conv2_2(c1)\n",
    "            c22 = tf.nn.relu(c22)\n",
    "            c22 = self.maxpool2_2(c22)\n",
    "#             print(f'conv2_2 shape: {c22.shape}')\n",
    "        \n",
    "            c31 = self.conv3_1(c21)\n",
    "            c31 = tf.nn.relu(c31)\n",
    "            c31 = self.maxpool3_1(c31)\n",
    "#             print(f'conv3_1 shape: {c31.shape}')\n",
    "            \n",
    "            c32 = self.conv3_2(c22)\n",
    "            c32 = tf.nn.relu(c32)\n",
    "            c32 = self.maxpool3_2(c32)\n",
    "#             print(f'conv32 shape: {c32.shape}')\n",
    "            \n",
    "            c3 = tf.concat((c31,c32),axis=3)\n",
    "#             print(f'conv3 shape: {c3.shape}')\n",
    "            \n",
    "            fc1 = self.flat(c3)\n",
    "            fc1 = self.fc1(fc1)\n",
    "            fc1 = tf.nn.relu(fc1)\n",
    "#             print(f'fc1 shape: {fc1.shape}')\n",
    "            \n",
    "            fc2 = self.fc2(fc1)\n",
    "            fc2 = tf.nn.relu(fc2)\n",
    "#             print(f'fc2 shape: {fc2.shape}')\n",
    "            \n",
    "            out = self.out(fc2)\n",
    "            return tf.nn.softmax(out)\n",
    "    "
   ]
  },
  {
   "cell_type": "code",
   "execution_count": 29,
   "metadata": {},
   "outputs": [
    {
     "name": "stdout",
     "output_type": "stream",
     "text": [
      "Tensor(\"input_5:0\", shape=(?, 28, 28, 1), dtype=float32)\n",
      "Tensor(\"postmates_xnn_7/Softmax:0\", shape=(?, 10), dtype=float32)\n",
      "_________________________________________________________________\n",
      "Layer (type)                 Output Shape              Param #   \n",
      "=================================================================\n",
      "conv1 (Conv2D)               (None, 28, 28, 32)        320       \n",
      "_________________________________________________________________\n",
      "conv2_1 (Conv2D)             multiple                  18496     \n",
      "_________________________________________________________________\n",
      "conv2_2 (Conv2D)             multiple                  18496     \n",
      "_________________________________________________________________\n",
      "maxpool2_1 (MaxPooling2D)    multiple                  0         \n",
      "_________________________________________________________________\n",
      "maxpool2_2 (MaxPooling2D)    multiple                  0         \n",
      "_________________________________________________________________\n",
      "conv3_1 (Conv2D)             multiple                  147712    \n",
      "_________________________________________________________________\n",
      "conv3_2 (Conv2D)             multiple                  147712    \n",
      "_________________________________________________________________\n",
      "maxpool1 (MaxPooling2D)      multiple                  0         \n",
      "_________________________________________________________________\n",
      "maxpool1 (MaxPooling2D)      multiple                  0         \n",
      "_________________________________________________________________\n",
      "flatten_7 (Flatten)          multiple                  0         \n",
      "_________________________________________________________________\n",
      "fc1 (Dense)                  multiple                  25089000  \n",
      "_________________________________________________________________\n",
      "fc1 (Dense)                  multiple                  500500    \n",
      "_________________________________________________________________\n",
      "output (Dense)               multiple                  5010      \n",
      "=================================================================\n",
      "Total params: 25,927,246\n",
      "Trainable params: 25,927,246\n",
      "Non-trainable params: 0\n",
      "_________________________________________________________________\n"
     ]
    }
   ],
   "source": [
    "# Inspect Model \n",
    "model = PostmatesXNN() \n",
    "ip = tf.keras.layers.Input((input_shape))\n",
    "print(ip)\n",
    "output = model(ip)\n",
    "print(output)\n",
    "model.summary()"
   ]
  },
  {
   "cell_type": "markdown",
   "metadata": {},
   "source": [
    "# Train "
   ]
  },
  {
   "cell_type": "markdown",
   "metadata": {},
   "source": [
    "## Optimizer: AdaDelta (adaptive learning rate)"
   ]
  },
  {
   "cell_type": "code",
   "execution_count": 16,
   "metadata": {},
   "outputs": [],
   "source": [
    "training_hyperparams = {\n",
    "    \"optimizer\":\"AdaDelta\",\n",
    "    \"loss_fn\": \"categorical_crossentropy\",\n",
    "    \"metrics\": ['accuracy'],\n",
    "    \"epochs\": 10,\n",
    "    \"batch_size\": 32,\n",
    "    \"num_train\": x_train.shape[0],\n",
    "    \"validation_split\": 0.1,\n",
    "    \"num_test\": x_test.shape[0]\n",
    "}\n",
    "histories = {}"
   ]
  },
  {
   "cell_type": "code",
   "execution_count": null,
   "metadata": {},
   "outputs": [
    {
     "name": "stdout",
     "output_type": "stream",
     "text": [
      "adadelta/batch_size_32/epochs_10\n",
      "Train on 54000 samples, validate on 6000 samples\n",
      "Epoch 1/10\n",
      "53984/54000 [============================>.] - ETA: 0s - loss: 0.1247 - acc: 0.9609\n",
      "Epoch 00001: saving model to adadelta/batch_size_32/epochs_10/cp.ckpt\n",
      "WARNING:tensorflow:This model was compiled with a Keras optimizer (<tensorflow.python.keras.optimizers.Adadelta object at 0xce3257080>) but is being saved in TensorFlow format with `save_weights`. The model's weights will be saved, but unlike with TensorFlow optimizers in the TensorFlow format the optimizer's state will not be saved.\n",
      "\n",
      "Consider using a TensorFlow optimizer from `tf.train`.\n",
      "54000/54000 [==============================] - 1779s 33ms/step - loss: 0.1246 - acc: 0.9609 - val_loss: 0.0334 - val_acc: 0.9903\n",
      "Epoch 2/10\n",
      "53984/54000 [============================>.] - ETA: 1s - loss: 0.0328 - acc: 0.9903\n",
      "Epoch 00002: saving model to adadelta/batch_size_32/epochs_10/cp.ckpt\n",
      "WARNING:tensorflow:This model was compiled with a Keras optimizer (<tensorflow.python.keras.optimizers.Adadelta object at 0xce3257080>) but is being saved in TensorFlow format with `save_weights`. The model's weights will be saved, but unlike with TensorFlow optimizers in the TensorFlow format the optimizer's state will not be saved.\n",
      "\n",
      "Consider using a TensorFlow optimizer from `tf.train`.\n",
      "54000/54000 [==============================] - 4523s 84ms/step - loss: 0.0328 - acc: 0.9903 - val_loss: 0.0334 - val_acc: 0.9895\n",
      "Epoch 3/10\n",
      "53984/54000 [============================>.] - ETA: 0s - loss: 0.0191 - acc: 0.9941\n",
      "Epoch 00003: saving model to adadelta/batch_size_32/epochs_10/cp.ckpt\n",
      "WARNING:tensorflow:This model was compiled with a Keras optimizer (<tensorflow.python.keras.optimizers.Adadelta object at 0xce3257080>) but is being saved in TensorFlow format with `save_weights`. The model's weights will be saved, but unlike with TensorFlow optimizers in the TensorFlow format the optimizer's state will not be saved.\n",
      "\n",
      "Consider using a TensorFlow optimizer from `tf.train`.\n",
      "54000/54000 [==============================] - 1859s 34ms/step - loss: 0.0191 - acc: 0.9941 - val_loss: 0.0263 - val_acc: 0.9913\n",
      "Epoch 4/10\n",
      "53984/54000 [============================>.] - ETA: 0s - loss: 0.0118 - acc: 0.9963\n",
      "Epoch 00004: saving model to adadelta/batch_size_32/epochs_10/cp.ckpt\n",
      "WARNING:tensorflow:This model was compiled with a Keras optimizer (<tensorflow.python.keras.optimizers.Adadelta object at 0xce3257080>) but is being saved in TensorFlow format with `save_weights`. The model's weights will be saved, but unlike with TensorFlow optimizers in the TensorFlow format the optimizer's state will not be saved.\n",
      "\n",
      "Consider using a TensorFlow optimizer from `tf.train`.\n",
      "54000/54000 [==============================] - 1855s 34ms/step - loss: 0.0118 - acc: 0.9963 - val_loss: 0.0310 - val_acc: 0.9925\n",
      "Epoch 5/10\n",
      "53984/54000 [============================>.] - ETA: 1s - loss: 0.0085 - acc: 0.9972\n",
      "Epoch 00005: saving model to adadelta/batch_size_32/epochs_10/cp.ckpt\n",
      "WARNING:tensorflow:This model was compiled with a Keras optimizer (<tensorflow.python.keras.optimizers.Adadelta object at 0xce3257080>) but is being saved in TensorFlow format with `save_weights`. The model's weights will be saved, but unlike with TensorFlow optimizers in the TensorFlow format the optimizer's state will not be saved.\n",
      "\n",
      "Consider using a TensorFlow optimizer from `tf.train`.\n",
      "54000/54000 [==============================] - 3739s 69ms/step - loss: 0.0085 - acc: 0.9972 - val_loss: 0.0289 - val_acc: 0.9933\n",
      "Epoch 6/10\n",
      "12320/54000 [=====>........................] - ETA: 36:17 - loss: 0.0048 - acc: 0.9988"
     ]
    }
   ],
   "source": [
    "# Try different batch sizes \n",
    "batch_sizes = [32,64,128,256]\n",
    "for batch_size in batch_sizes:\n",
    "    training_hyperparams[\"batch_size\"] = batch_size\n",
    "    epochs = training_hyperparams[\"epochs\"]\n",
    "    checkpoint_path = f\"adadelta/batch_size_{batch_size}/epochs_{epochs}/cp.ckpt\"\n",
    "    checkpoint_dir = f\"adadelta/batch_size_{batch_size}/epochs_{epochs}\"\n",
    "    if not os.path.exists(checkpoint_dir):\n",
    "        os.makedirs(checkpoint_dir)\n",
    "    print(checkpoint_dir)\n",
    "    # Create checkpoint callback\n",
    "    callbacks = [tf.keras.callbacks.ModelCheckpoint(checkpoint_path, \n",
    "                                         save_weights_only=True,\n",
    "                                         verbose=1)]\n",
    "    model = PostmatesXNN()\n",
    "    model.compile(optimizer = training_hyperparams[\"optimizer\"],\n",
    "                  loss      = training_hyperparams[\"loss_fn\"],\n",
    "                  metrics   = training_hyperparams[\"metrics\"])\n",
    "    \n",
    "    histories[f\"adadelta_{batch_size}_{epochs}\"] = model.fit(x_train, y_train,\n",
    "                                                    validation_split=0.1,\n",
    "                                                    epochs=epochs,\n",
    "                                                    batch_size=batch_size, \n",
    "                                                    verbose=1, callbacks=callbacks)\n",
    "    \n",
    "    with open(f\"adadelta/batch_size_{batch_size}/epochs_{epochs}/training_hyperparams.txt\",\"w+\") as outfile:\n",
    "        json.dump(training_hyperparams, outfile)\n",
    "    \n",
    "    score = model.evaluate(x_test, y_test)\n",
    "    with open(f\"adadelta/batch_size_{batch_size}/epochs_{epochs}/score.txt\",\"w+\") as outfile:\n",
    "        outfile.write(str(score))\n"
   ]
  },
  {
   "cell_type": "code",
   "execution_count": 22,
   "metadata": {},
   "outputs": [
    {
     "name": "stdout",
     "output_type": "stream",
     "text": [
      "Tensor(\"input_3:0\", shape=(?, 28, 28, 1), dtype=float32)\n",
      "Tensor(\"postmates_xnn_4/Softmax:0\", shape=(?, 10), dtype=float32)\n"
     ]
    },
    {
     "data": {
      "text/plain": [
       "<tensorflow.python.training.checkpointable.util.CheckpointLoadStatus at 0xb368d3128>"
      ]
     },
     "execution_count": 22,
     "metadata": {},
     "output_type": "execute_result"
    }
   ],
   "source": [
    "model = PostmatesXNN()\n",
    "ip = tf.keras.layers.Input((input_shape))\n",
    "print(ip)\n",
    "output = model(ip)\n",
    "print(output)\n",
    "model.load_weights('adadelta/batch_size_32/epochs_10/cp.ckpt')"
   ]
  },
  {
   "cell_type": "code",
   "execution_count": 34,
   "metadata": {},
   "outputs": [],
   "source": [
    "inputs = tf.keras.Input(shape=(3,))\n",
    "x = tf.keras.layers.Dense(4, activation=tf.nn.relu)(inputs)\n",
    "outputs = tf.keras.layers.Dense(5, activation=tf.nn.softmax)(x)\n",
    "model = tf.keras.Model(inputs=inputs, outputs=outputs)"
   ]
  },
  {
   "cell_type": "code",
   "execution_count": 35,
   "metadata": {},
   "outputs": [],
   "source": [
    "model.compile(optimizer = training_hyperparams[\"optimizer\"],\n",
    "                  loss      = training_hyperparams[\"loss_fn\"],\n",
    "                  metrics   = training_hyperparams[\"metrics\"])\n",
    "# model.evaluate(x_test,y_test)"
   ]
  },
  {
   "cell_type": "code",
   "execution_count": 36,
   "metadata": {
    "scrolled": false
   },
   "outputs": [],
   "source": [
    "tfk.models.save_model(model,'postmates')"
   ]
  },
  {
   "cell_type": "code",
   "execution_count": 104,
   "metadata": {},
   "outputs": [],
   "source": [
    "def plot_training_performance(history,batch_size):\n",
    "    f, (ax1,ax2)  = plt.subplots(1,2)\n",
    "    ax1.set_title(f'Adadelta Loss Curves for Batch Size {batch_size}')\n",
    "    ax1.xlabel(\"Epochs\")\n",
    "    ax1.ylabel(\"Loss\")\n",
    "    ax1.plot(history.epoch, history.history['loss'], label='training loss')\n",
    "    ax1.plot(history.epoch, history.history['val_loss'], label='validation loss')\n",
    "    ax1.legend()\n",
    "    \n",
    "    ax2.set_title(f'Adadelta Accuracy for Batch Size {batch_size}')\n",
    "    "
   ]
  },
  {
   "cell_type": "code",
   "execution_count": 108,
   "metadata": {
    "collapsed": true
   },
   "outputs": [
    {
     "data": {
      "image/png": "[encoded data removed]",
      "text/plain": [
       "<Figure size 432x288 with 1 Axes>"
      ]
     },
     "metadata": {
      "needs_background": "light"
     },
     "output_type": "display_data"
    },
    {
     "data": {
      "image/png": "[encoded data removed]",
      "text/plain": [
       "<Figure size 432x288 with 1 Axes>"
      ]
     },
     "metadata": {
      "needs_background": "light"
     },
     "output_type": "display_data"
    },
    {
     "data": {
      "image/png": "[encoded data removed]",
      "text/plain": [
       "<Figure size 432x288 with 1 Axes>"
      ]
     },
     "metadata": {
      "needs_background": "light"
     },
     "output_type": "display_data"
    },
    {
     "data": {
      "image/png": "[encoded data removed]",
      "text/plain": [
       "<Figure size 432x288 with 1 Axes>"
      ]
     },
     "metadata": {
      "needs_background": "light"
     },
     "output_type": "display_data"
    }
   ],
   "source": [
    "for batch_size in batch_sizes:\n",
    "    plot_training_performance(histories[f'adadelta_{batch_size}'],batch_size)"
   ]
  },
  {
   "cell_type": "code",
   "execution_count": null,
   "metadata": {},
   "outputs": [],
   "source": []
  },
  {
   "cell_type": "code",
   "execution_count": null,
   "metadata": {},
   "outputs": [],
   "source": []
  }
 ],
 "metadata": {
  "kernelspec": {
   "display_name": "Python (tensorflow)",
   "language": "python",
   "name": "tensorflow_env"
  }
 },
 "nbformat": 4,
 "nbformat_minor": 2
}
