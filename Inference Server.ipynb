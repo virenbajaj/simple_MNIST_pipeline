{
 "cells": [
  {
   "cell_type": "code",
   "execution_count": 2,
   "metadata": {},
   "outputs": [],
   "source": [
    "import sys\n",
    "sys.path.append('../')\n",
    "\n",
    "import tensorflow as tf\n",
    "import tensorflow.keras as tfk \n",
    "import keras\n",
    "\n",
    "import os\n",
    "import json"
   ]
  },
  {
   "cell_type": "code",
   "execution_count": null,
   "metadata": {},
   "outputs": [],
   "source": [
    "# tf.app.flags.DEFINE_integer('model_version', 1, 'Models version number.')\n",
    "# tf.app.flags.DEFINE_string('work_dir', './tboard_logs', 'Working directory.')\n",
    "# tf.app.flags.DEFINE_integer('model_id', 16645, 'Model id name to be loaded.')\n",
    "# tf.app.flags.DEFINE_string('export_model_dir', \"./versions\", 'Directory where the model exported files should be placed.')\n",
    "\n",
    "# FLAGS = tf.app.flags.FLAGS"
   ]
  },
  {
   "cell_type": "code",
   "execution_count": 35,
   "metadata": {},
   "outputs": [],
   "source": [
    "model = tf.keras.models.load_model(f'postmates')"
   ]
  },
  {
   "cell_type": "code",
   "execution_count": 45,
   "metadata": {},
   "outputs": [],
   "source": [
    "def main():\n",
    "    with tf.Session(graph=tf.Graph()) as sess:\n",
    "        trained_checkpoint_prefix = \"adadelta/batch_size_32/epochs_10\"\n",
    "        saver.restore(sess, trained_checkpoint_prefix)\n",
    "        export_path = \"servable\"\n",
    "        builder = tf.saved_model.builder.SavedModelBuilder(export_path)\n",
    "\n",
    "        img_height = 28 \n",
    "        img_width = 28\n",
    "        input_shape = (1,img_height,img_width,1)\n",
    "        input_tensor = tf.keras.Input(shape=input_shape)\n",
    "        image_height_tensor = tf.keras.Input(shape=(img_height,))\n",
    "        image_width_tensor = tf.keras.Input(shape=(None,img_width))\n",
    "        model_version = 1\n",
    "\n",
    "    #     print(model)\n",
    "    #     predictions = model.predict(input_tensor)\n",
    "    #     print(predictions)\n",
    "        predict_tensor = model.output\n",
    "        print(predict_tensor)\n",
    "\n",
    "\n",
    "        tensor_info_input = tf.saved_model.utils.build_tensor_info(input_tensor)\n",
    "        tensor_info_height = tf.saved_model.utils.build_tensor_info(image_height_tensor)\n",
    "        tensor_info_width = tf.saved_model.utils.build_tensor_info(image_width_tensor)\n",
    "        output_tensor =tf.keras.Input(shape=(None,10))\n",
    "        tensor_info_output = tf.saved_model.utils.build_tensor_info(output_tensor)\n",
    "        prediction_signature = (\n",
    "                tf.saved_model.signature_def_utils.build_signature_def(\n",
    "                    inputs={'images': tensor_info_input, 'height': tensor_info_height, 'width': tensor_info_width},\n",
    "                    outputs={'classification': tensor_info_output},\n",
    "                    method_name=tf.saved_model.signature_constants.PREDICT_METHOD_NAME))\n",
    "\n",
    "        builder.add_meta_graph_and_variables(\n",
    "            sess, [tf.saved_model.tag_constants.SERVING],\n",
    "            signature_def_map={\n",
    "                'predict_images':\n",
    "                    prediction_signature,\n",
    "            })\n",
    "\n",
    "        # export the model\n",
    "        builder.save(as_text=True)\n",
    "        print('Done exporting!')\n",
    "\n",
    "\n",
    "    \n",
    "    \n",
    "#     print(tensor_info_input,tensor_info_height,tensor_info_width)"
   ]
  },
  {
   "cell_type": "code",
   "execution_count": 47,
   "metadata": {},
   "outputs": [
    {
     "ename": "NameError",
     "evalue": "name '__main__' is not defined",
     "output_type": "error",
     "traceback": [
      "\u001b[0;31m---------------------------------------------------------------------------\u001b[0m",
      "\u001b[0;31mNameError\u001b[0m                                 Traceback (most recent call last)",
      "\u001b[0;32m<ipython-input-47-755060cf732c>\u001b[0m in \u001b[0;36m<module>\u001b[0;34m\u001b[0m\n\u001b[0;32m----> 1\u001b[0;31m \u001b[0;32mif\u001b[0m \u001b[0m__name__\u001b[0m \u001b[0;34m==\u001b[0m \u001b[0m__main__\u001b[0m\u001b[0;34m:\u001b[0m\u001b[0;34m\u001b[0m\u001b[0;34m\u001b[0m\u001b[0m\n\u001b[0m\u001b[1;32m      2\u001b[0m     \u001b[0mtf\u001b[0m\u001b[0;34m.\u001b[0m\u001b[0mapp\u001b[0m\u001b[0;34m.\u001b[0m\u001b[0mrun\u001b[0m\u001b[0;34m(\u001b[0m\u001b[0;34m)\u001b[0m\u001b[0;34m\u001b[0m\u001b[0;34m\u001b[0m\u001b[0m\n",
      "\u001b[0;31mNameError\u001b[0m: name '__main__' is not defined"
     ]
    }
   ],
   "source": [
    "if __name__ == '__main__':\n",
    "    tf.app.run()"
   ]
  },
  {
   "cell_type": "code",
   "execution_count": null,
   "metadata": {},
   "outputs": [],
   "source": []
  }
 ],
 "metadata": {
  "kernelspec": {
   "display_name": "Python (tensorflow)",
   "language": "python",
   "name": "tensorflow_env"
  },
  "language_info": {
   "codemirror_mode": {
    "name": "ipython",
    "version": 3
   },
   "file_extension": ".py",
   "mimetype": "text/x-python",
   "name": "python",
   "nbconvert_exporter": "python",
   "pygments_lexer": "ipython3",
   "version": "3.6.7"
  }
 },
 "nbformat": 4,
 "nbformat_minor": 2
}
